{
 "cells": [
  {
   "cell_type": "code",
   "execution_count": 3,
   "id": "37ac41d0",
   "metadata": {},
   "outputs": [],
   "source": [
    "from dotenv import load_dotenv\n",
    "import getpass\n",
    "import os\n",
    "load_dotenv(verbose = True)\n",
    "# os.getenv(\"GOOGLE_API_KEY\")\n",
    "if \"GOOGLE_API_KEY\" not in os.environ:\n",
    "    os.environ[\"GOOGLE_API_KEY\"] = getpass.getpass(\"Enter your Google AI API key: \")"
   ]
  },
  {
   "cell_type": "code",
   "execution_count": null,
   "id": "cf79fdba",
   "metadata": {},
   "outputs": [],
   "source": [
    "#%pip install -U langchain-google-genai"
   ]
  },
  {
   "cell_type": "code",
   "execution_count": 6,
   "id": "fd5b375f",
   "metadata": {},
   "outputs": [
    {
     "name": "stdout",
     "output_type": "stream",
     "text": [
      "OMSCS stands for **Online Master of Science in Computer Science** offered by the **Georgia Institute of Technology (Georgia Tech)**.\n",
      "\n",
      "Here's a breakdown of what makes it significant:\n",
      "\n",
      "*   **Reputable Institution:** It's a fully online master's degree from a top-ranked computer science program. Georgia Tech is highly respected in the field.\n",
      "*   **Affordable:** Compared to traditional on-campus master's programs, OMSCS is significantly more affordable. This makes it accessible to a wider range of students.\n",
      "*   **Flexible:** The online format allows students to study at their own pace and on their own schedule, making it ideal for working professionals.\n",
      "*   **Rigorous Curriculum:** The program covers a wide range of computer science topics and maintains a high academic standard. It is not a \"watered down\" version of the on-campus program.\n",
      "*   **Diverse Specializations:** Students can choose to specialize in areas such as:\n",
      "    *   Machine Learning\n",
      "    *   Interactive Intelligence\n",
      "    *   Computing Systems\n",
      "    *   Computational Perception and Robotics\n",
      "    *   High Performance Computing\n",
      "    *   Computational Science and Engineering\n",
      "    *   Cybersecurity\n",
      "    *   Software Engineering\n",
      "    *   Data Science\n",
      "*   **Large and Active Community:** OMSCS has a large and active online community of students, alumni, and faculty. This provides opportunities for networking, collaboration, and support.\n",
      "*   **Same Degree as On-Campus Students:** Graduates receive the same Master of Science in Computer Science degree as students who attend Georgia Tech in person. The diploma does not indicate that the degree was earned online.\n",
      "\n",
      "In short, OMSCS is a highly regarded, affordable, and flexible online master's degree program in computer science from a top university. It's a popular choice for individuals looking to advance their careers or change fields.\n"
     ]
    }
   ],
   "source": [
    "from langchain_google_genai import ChatGoogleGenerativeAI\n",
    "llm = ChatGoogleGenerativeAI(model=\"gemini-2.0-flash\")\n",
    "result = llm.invoke('What is OMSCS?')\n",
    "print(result.content)"
   ]
  },
  {
   "cell_type": "markdown",
   "id": "207aa677",
   "metadata": {},
   "source": [
    "- https://python.langchain.com/docs/integrations/chat/nvidia_ai_endpoints/"
   ]
  },
  {
   "cell_type": "markdown",
   "id": "766262da",
   "metadata": {},
   "source": [
    "from langchain_nvidia_ai_endpoints import ChatNVIDIA\n",
    "llm = ChatNVIDIA(base_url, model)\n",
    "result = llm.invoke('What is OMSCS?')\n",
    "print(result.content)"
   ]
  },
  {
   "cell_type": "markdown",
   "id": "a0f28337",
   "metadata": {},
   "source": [
    "## 스트리밍과 배치 "
   ]
  },
  {
   "cell_type": "code",
   "execution_count": 7,
   "id": "1ce6bcdd",
   "metadata": {},
   "outputs": [
    {
     "name": "stdout",
     "output_type": "stream",
     "text": [
      "OMSCS stands for **Online Master of Science in Computer Science**. It is a fully online Master's degree program offered by the **Georgia Institute of Technology (Georgia Tech)**.\n",
      "\n",
      "Here's a breakdown of what makes OMSCS significant:\n",
      "\n",
      "*   **Reputation:** Georgia Tech is a highly-ranked and respected university, particularly for its computer science programs.\n",
      "*   **Affordability:** Compared to traditional, on-campus Master's programs, OMSCS is significantly more affordable. This is a major draw for many students.\n",
      "*   **Flexibility:** Being online, the program offers a high degree of flexibility, allowing students to study and complete coursework at their own pace and from anywhere in the world.  This is ideal for working professionals.\n",
      "*   **Comprehensive Curriculum:** OMSCS offers a wide range of specializations and courses covering various areas of computer science, including machine learning, interactive intelligence, computing systems, and more.\n",
      "*   **Rigorous:** Despite being online, the program is known for its rigor and high academic standards.\n",
      "*   **Large Community:**  OMSCS has a very large and active online community, providing students with support, networking opportunities, and collaboration.\n",
      "*   **Same Degree:** Graduates of OMSCS receive the same Master of Science in Computer Science degree as students who attend the program on campus.\n",
      "\n",
      "In summary, OMSCS is a popular and highly regarded online Master's program in Computer Science that offers a quality education at an affordable price with the flexibility of online learning.\n"
     ]
    }
   ],
   "source": [
    "# llm이 뱉어내는 결과를 스트리밍하게 밷어낼 수 있다.\n",
    "# invoke는 동기식, stream은 비동기식으로 결과를 받아온다.\n",
    "prompt = \"What is OMSCS?\"\n",
    "for chunk in llm.stream(prompt):\n",
    "    print(chunk.content, end='')"
   ]
  },
  {
   "cell_type": "code",
   "execution_count": 8,
   "id": "5c054529",
   "metadata": {},
   "outputs": [
    {
     "name": "stdout",
     "output_type": "stream",
     "text": [
      "OMSCS stands for **Online Master of Science in Computer Science** offered by the Georgia Institute of Technology (Georgia Tech). It's a highly ranked and popular online graduate program designed to provide a rigorous and comprehensive computer science education at a relatively affordable price.\n",
      "\n",
      "Here's a breakdown of key aspects of OMSCS:\n",
      "\n",
      "*   **Degree:** Master of Science in Computer Science (MSCS)\n",
      "*   **Delivery:** Fully online, allowing students to study remotely from anywhere in the world.\n",
      "*   **Curriculum:** Covers a wide range of computer science topics, including:\n",
      "    *   Artificial Intelligence\n",
      "    *   Machine Learning\n",
      "    *   Interactive Intelligence\n",
      "    *   Computing Systems\n",
      "    *   Computational Perception and Robotics\n",
      "    *   Human-Computer Interaction\n",
      "    *   High Performance Computing\n",
      "    *   Theory\n",
      "*   **Specializations:** Students can choose to specialize in one of several areas, allowing them to focus their studies on their specific interests.\n",
      "*   **Reputation:** Highly regarded as one of the top online computer science programs in the world. Georgia Tech's computer science program is consistently ranked among the best.\n",
      "*   **Cost:** Significantly more affordable than traditional on-campus master's programs, making it accessible to a wider range of students.\n",
      "*   **Flexibility:** Designed to accommodate working professionals, with flexible course schedules and deadlines.\n",
      "*   **Admission:** Competitive admission process, requiring a strong academic background and often some prior experience in computer science or a related field.\n",
      "*   **Community:** Active online community of students and alumni, providing opportunities for networking and collaboration.\n",
      "*   **Target Audience:** Working professionals, career changers, and individuals seeking to advance their knowledge and skills in computer science.\n",
      "\n",
      "In short, OMSCS is a prestigious and cost-effective way to earn a Master of Science in Computer Science from a top-ranked university, all while studying online. It's a popular choice for individuals looking to advance their careers in the field of computer science.\n",
      "The capital of France is Paris.\n",
      "The largest mammal is the **blue whale** (Balaenoptera musculus).\n"
     ]
    }
   ],
   "source": [
    "#batch 식\n",
    "prompts = [\n",
    "    'What is OMSCS?',\n",
    "    'What is the capital of France?',\n",
    "    'What is the largest mammal?'\n",
    "]\n",
    "results = llm.batch(prompts)\n",
    "for result in results:\n",
    "    print(result.content) "
   ]
  },
  {
   "cell_type": "markdown",
   "id": "bd67d417",
   "metadata": {},
   "source": [
    "## Prompt Template vs Resuable Functionality"
   ]
  },
  {
   "cell_type": "code",
   "execution_count": null,
   "id": "3d6cfb35",
   "metadata": {},
   "outputs": [],
   "source": []
  },
  {
   "cell_type": "markdown",
   "id": "679cfd66",
   "metadata": {},
   "source": [
    "https://python.langchain.com/api_reference/_modules/langchain_core/prompts/chat.html#ChatPromptTemplate.from_template"
   ]
  },
  {
   "cell_type": "code",
   "execution_count": null,
   "id": "98eb1f26",
   "metadata": {},
   "outputs": [
    {
     "name": "stdout",
     "output_type": "stream",
     "text": [
      "There are several ways to translate \"Hello, how are you?\" into French, depending on the level of formality:\n",
      "\n",
      "*   **Formal:** Bonjour, comment allez-vous ? (This is the most polite and appropriate for people you don't know well or in formal situations.)\n",
      "\n",
      "*   **Informal:** Salut, comment ça va ? (This is common among friends and people you know well.)\n",
      "\n",
      "*   **Very informal:** Salut, ça va ? (This is even more informal than the previous one.)\n",
      "\n",
      "*   **Another informal option:** Bonjour, ça va ? (A mix of a formal greeting with an informal question)\n",
      "\n",
      "Therefore, the best translation depends on the context. If you're unsure, **Bonjour, comment allez-vous ?** is always a safe and polite option.\n"
     ]
    }
   ],
   "source": [
    "one_off_prompt = \"Translate the following English text to French: 'Hello, how are you?'\"\n",
    "print(llm.invoke(one_off_prompt).content)"
   ]
  },
  {
   "cell_type": "code",
   "execution_count": 13,
   "id": "c1d0b041",
   "metadata": {},
   "outputs": [
    {
     "data": {
      "text/plain": [
       "['Here are a few options for translating \"Hello, how are you?\" into French, with slightly different nuances:\\n\\n*   **Bonjour, comment allez-vous ?** (Formal, polite. Use with people you don\\'t know well, or in professional settings.)\\n\\n*   **Salut, comment vas-tu ?** (Informal, friendly. Use with friends, family, and people you know well.)\\n\\n*   **Bonjour, ça va ?** (Informal, but very common. A general greeting, like \"Hi, how\\'s it going?\")\\n\\n*   **Salut, ça va ?** (Even more informal, like \"Hey, what\\'s up?\")\\n\\nThe best choice depends on the context and your relationship with the person you\\'re speaking to.',\n",
       " 'The most common and polite translation of \"What is your name?\" in French is:\\n\\n**Comment vous appelez-vous ?**\\n\\nHere are a few other options, with slightly different connotations:\\n\\n*   **Quel est votre nom ?** (More formal, literally \"What is your name?\")\\n*   **Tu t\\'appelles comment ?** (Informal, used with people you know or are on familiar terms with)\\n*   **Comment tu t\\'appelles ?** (Also informal, but slightly more direct than \"Tu t\\'appelles comment ?\")\\n\\nThe best choice depends on the context and your relationship with the person you\\'re asking. However, \"Comment vous appelez-vous ?\" is generally the safest and most appropriate option.',\n",
       " 'The most common and direct translation of \"I love programming\" in French is:\\n\\n**J\\'adore la programmation.**\\n\\nHere are a few other options, with slightly different nuances:\\n\\n*   **J\\'aime la programmation.** (This is also very common and means \"I like programming,\" but can also imply love in some contexts)\\n\\n*   **J\\'aime beaucoup la programmation.** (This emphasizes the liking, \"I like programming a lot\")\\n\\n*   **Je suis passionné(e) par la programmation.** (This means \"I am passionate about programming.\" Use \"passionné\" if you are male, and \"passionnée\" if you are female.)\\n\\n*   **La programmation, c\\'est ma passion.** (This means \"Programming is my passion.\")\\n\\nThe best choice depends on the specific context and the degree of enthusiasm you want to convey. However, **J\\'adore la programmation** is generally the safest and most natural translation for \"I love programming.\"',\n",
       " 'There are a few ways to translate \"The weather is nice today\" into French, depending on the nuance you want to convey:\\n\\n*   **Il fait beau aujourd\\'hui.** (This is the most common and straightforward translation. It means \"The weather is good today.\")\\n\\n*   **Le temps est agréable aujourd\\'hui.** (This is a slightly more formal way of saying it, and means \"The weather is pleasant today.\")\\n\\n*   **On a du beau temps aujourd\\'hui.** (This is a more colloquial way of saying it, and translates to \"We have nice weather today.\")\\n\\nSo, the best option depends on the context, but **Il fait beau aujourd\\'hui** is generally the safest and most widely understood.']"
      ]
     },
     "execution_count": 13,
     "metadata": {},
     "output_type": "execute_result"
    }
   ],
   "source": [
    "def translate_to_french(text):\n",
    "    prompt = f\"Translate the following English text to French: '{text}'\"\n",
    "    return llm.invoke(prompt).content\n",
    "\n",
    "english_statsments = [\n",
    "    \"Hello, how are you?\",\n",
    "    \"What is your name?\",\n",
    "    \"I love programming.\",\n",
    "    \"The weather is nice today.\"\n",
    "]\n",
    "\n",
    "prompts = [translate_to_french(statement) for statement in english_statsments]\n",
    "prompts"
   ]
  },
  {
   "cell_type": "code",
   "execution_count": 15,
   "id": "a09c915d",
   "metadata": {},
   "outputs": [
    {
     "name": "stdout",
     "output_type": "stream",
     "text": [
      "---\n",
      "This is a great and accurate breakdown of the different ways to say \"Hello, how are you?\" in French! You've covered the key distinctions of formality and provided helpful context for each option.\n",
      "\n",
      "Here are a few minor additions that could further enhance this explanation:\n",
      "\n",
      "*   **Emphasis on \"vous\" vs. \"tu\":** Briefly mention the importance of the *vous* vs. *tu* distinction in French.  Explain that *vous* is the formal \"you\" and *tu* is the informal \"you.\" Using the wrong form can be considered rude.\n",
      "\n",
      "*   **Response Expectations:** While not always strictly adhered to, briefly mentioning the expected responses could be helpful.  For example:\n",
      "    *   \"Comment allez-vous ?\" usually expects a slightly more elaborate answer like \"Je vais bien, merci. Et vous ?\" (I'm doing well, thank you. And you?)\n",
      "    *   \"Ça va ?\" usually expects a shorter answer like \"Ça va, merci\" (I'm doing okay, thank you) or just \"Ça va\" (I'm okay).\n",
      "\n",
      "*   **Regional Variations:** While these are generally accepted across France and other French-speaking regions, acknowledging that some regional variations exist could be added. For example, in some regions, \"Ça va bien ?\" might be used more commonly than \"Ça va ?\"\n",
      "\n",
      "*   **Alternative Greetings:** While you've covered the most common options, mentioning a few other slightly less frequent alternatives could be beneficial:\n",
      "    *   **Bonjour/Salut, comment ça va ?** (This combines the formal greeting with the informal \"how's it going?\")\n",
      "    *   **Quoi de neuf ?** (Very informal, meaning \"What's new?\") - closer to \"What's up?\" than \"How are you?\"\n",
      "\n",
      "Here's an example of how you could incorporate these additions:\n",
      "\n",
      "\"Here are a few options for translating \"Hello, how are you?\" into French, with slightly different nuances. Remember that in French, it's important to use the correct form of \"you\" - *vous* (formal) or *tu* (informal). Using the wrong form can be seen as impolite.\n",
      "\n",
      "*   **Bonjour, comment allez-vous ?** (Formal, polite. Use with people you don't know well, or in professional settings. This uses *vous*, the formal \"you.\" Expect a slightly more elaborate response like \"Je vais bien, merci. Et vous?\" - I'm doing well, thank you. And you?)\n",
      "\n",
      "*   **Salut, comment vas-tu ?** (Informal, friendly. Use with friends, family, and people you know well. This uses *tu*, the informal \"you.\")\n",
      "\n",
      "*   **Bonjour, ça va ?** (Informal, but very common. A general greeting, like \"Hi, how's it going?\"  Expect a shorter answer like \"Ça va, merci\" or just \"Ça va.\")\n",
      "\n",
      "*   **Salut, ça va ?** (Even more informal, like \"Hey, what's up?\" Expect a similar short response.)\n",
      "\n",
      "The best choice depends on the context and your relationship with the person you're speaking to. While these greetings are generally accepted, be aware that some regional variations exist. Other options include \"Bonjour/Salut, comment ça va ?\" or the very informal \"Quoi de neuf?\" (What's new?)\"\n",
      "\n",
      "Overall, your explanation is excellent and provides a solid foundation for understanding French greetings. Adding these small details will make it even more comprehensive and helpful.\n",
      "---\n",
      "This is a very good and complete answer. It correctly identifies the most common and polite option and provides context for other possible translations.  Excellent!\n",
      "---\n",
      "This is an excellent and comprehensive answer! It covers the most common and accurate translations, along with helpful nuances and grammatical considerations. I particularly appreciate the inclusion of:\n",
      "\n",
      "*   **J'adore la programmation:** The best direct translation.\n",
      "*   **J'aime la programmation:**  A common and slightly less intense alternative.\n",
      "*   **J'aime beaucoup la programmation:**  Emphasizing the liking.\n",
      "*   **Je suis passionné(e) par la programmation:**  Expressing passion, with gender-specific forms.\n",
      "*   **La programmation, c'est ma passion:**  Another passionate expression.\n",
      "*   **The explanation of the nuances:**  This is key to choosing the right phrase.\n",
      "*   **The note about gender agreement for \"passionné(e)\":**  Crucial for accuracy.\n",
      "\n",
      "There's nothing I would add or change. This is a perfect response.\n",
      "---\n",
      "That's a great and comprehensive explanation! You've covered the most common and useful translations, along with their nuances. I agree that **Il fait beau aujourd'hui** is the best general-purpose translation.\n",
      "\n",
      "Here are a few minor additions and clarifications:\n",
      "\n",
      "*   **\"Il fait beau\"** can also be used on its own, without \"aujourd'hui\" (today). It simply means \"The weather is nice.\" Adding \"aujourd'hui\" emphasizes that it's nice *today* specifically.\n",
      "\n",
      "*   While **\"Le temps est agréable aujourd'hui\"** is more formal, it's also more descriptive. It emphasizes the *pleasantness* of the weather, perhaps suggesting a gentle breeze or comfortable temperature.\n",
      "\n",
      "*   **\"On a du beau temps aujourd'hui\"** is indeed colloquial and expresses the idea of *having* good weather. It's a bit more emphatic and can convey a sense of luck or appreciation for the good weather.  It's like saying, \"We're having some nice weather today!\"\n",
      "\n",
      "*   **\"Quel beau temps aujourd'hui!\"** (What nice weather today!) is an exclamation and a good option if you want to express excitement or appreciation.\n",
      "\n",
      "So, to summarize:\n",
      "\n",
      "*   **Il fait beau (aujourd'hui):** The weather is nice (today). (Most common, general)\n",
      "*   **Le temps est agréable aujourd'hui:** The weather is pleasant today. (More formal, descriptive)\n",
      "*   **On a du beau temps aujourd'hui:** We have nice weather today. (Colloquial, emphasizes having the weather)\n",
      "*   **Quel beau temps aujourd'hui!:** What nice weather today! (Exclamatory)\n",
      "\n",
      "Your original answer is excellent and covers the key options!\n"
     ]
    }
   ],
   "source": [
    "translations = llm.batch(prompts)\n",
    "for translation in translations:\n",
    "    print('---')\n",
    "    print(translation.content)"
   ]
  },
  {
   "cell_type": "markdown",
   "id": "1754b203",
   "metadata": {},
   "source": [
    "## `ChatPromptTemplate.from_template`\n",
    "#template 으로 프롬프트 엔지니어링 하기 \n",
    "from langchain_core.prompts import ChatPromptTemplate"
   ]
  },
  {
   "cell_type": "code",
   "execution_count": 22,
   "id": "72981f70",
   "metadata": {},
   "outputs": [
    {
     "name": "stdout",
     "output_type": "stream",
     "text": [
      "Hola, ¿cómo estás?\n"
     ]
    }
   ],
   "source": [
    "#template 으로 프롬프트 엔지니어링 하기 \n",
    "from langchain_core.prompts import ChatPromptTemplate\n",
    "#사전에 템플릿을 만들어 runnable을 만드는 방식\n",
    "english_to_spanish_template = ChatPromptTemplate.from_template(\"\"\"Translate the following English text to Spanish Provide only the translated text: {english_statement}\"\"\") \n",
    "prompt = english_to_spanish_template.invoke('Hello, how are you?')\n",
    "result = llm.invoke(prompt)\n",
    "print(result.content)"
   ]
  },
  {
   "cell_type": "markdown",
   "id": "c84f9295",
   "metadata": {},
   "source": [
    "## Chat Prompt Template Details"
   ]
  },
  {
   "cell_type": "code",
   "execution_count": 23,
   "id": "5553ce93",
   "metadata": {},
   "outputs": [
    {
     "data": {
      "text/plain": [
       "ChatPromptValue(messages=[HumanMessage(content='Translate the following English text to Spanish Provide only the translated text: Today is sunny day', additional_kwargs={}, response_metadata={})])"
      ]
     },
     "execution_count": 23,
     "metadata": {},
     "output_type": "execute_result"
    }
   ],
   "source": [
    "english_to_spanish_template.invoke({\"english_statement\": \"Today is sunny day\"})"
   ]
  },
  {
   "cell_type": "code",
   "execution_count": 24,
   "id": "fd8b37d9",
   "metadata": {},
   "outputs": [
    {
     "name": "stdout",
     "output_type": "stream",
     "text": [
      "Bonjour, comment allez-vous ?\n"
     ]
    }
   ],
   "source": [
    "translate_template = ChatPromptTemplate.from_template(\"Transslate the following from {from_language} to {to_language} provide only the translated text: {text}\")\n",
    "prompt = translate_template.invoke({\n",
    "    'from_language': 'English',\n",
    "    'to_language': 'French',\n",
    "    'text': 'Hello, how are you?'\n",
    "}\n",
    ")\n",
    "print(llm.invoke(prompt).content)"
   ]
  },
  {
   "cell_type": "markdown",
   "id": "11438e5b",
   "metadata": {},
   "source": [
    "### 1일차 Ex\n",
    "다음 5가지의 statement를 가지고 3가지의 업무를 수행\n",
    "- 감성분석\n",
    "- 메인주제 선벼\n",
    "- 추후로 올 질문"
   ]
  },
  {
   "cell_type": "code",
   "execution_count": null,
   "id": "b3a670ac",
   "metadata": {},
   "outputs": [],
   "source": [
    "statements = [\n",
    "    \"I had a fantastic time hiking up the mountain yesterday.\",\n",
    "    \"The new restaurant downtwon serves delicious vegeterian dishes.\",\n",
    "    \"I am feeling quite stressed about the upcoming project deadline.\",\n",
    "    \"Watching the sunsset at the beach was a calming exmperience.\",\n",
    "    \"I recently started reading a fascinating book about space exploration.\",\n",
    "]"
   ]
  }
 ],
 "metadata": {
  "kernelspec": {
   "display_name": "nvidia",
   "language": "python",
   "name": "python3"
  },
  "language_info": {
   "codemirror_mode": {
    "name": "ipython",
    "version": 3
   },
   "file_extension": ".py",
   "mimetype": "text/x-python",
   "name": "python",
   "nbconvert_exporter": "python",
   "pygments_lexer": "ipython3",
   "version": "3.12.9"
  }
 },
 "nbformat": 4,
 "nbformat_minor": 5
}
